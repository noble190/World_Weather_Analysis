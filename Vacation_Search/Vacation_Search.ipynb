{
 "cells": [
  {
   "cell_type": "markdown",
   "metadata": {},
   "source": [
    "## Deliverable 2. Create a Customer Travel Destinations Map."
   ]
  },
  {
   "cell_type": "code",
   "execution_count": 17,
   "metadata": {},
   "outputs": [],
   "source": [
    "# Dependencies and Setup\n",
    "import pandas as pd\n",
    "import requests\n",
    "import gmaps\n",
    "\n",
    "# Import API key\n",
    "from config import g_key\n",
    "\n",
    "# Configure gmaps API key\n",
    "gmaps.configure(api_key=g_key)"
   ]
  },
  {
   "cell_type": "code",
   "execution_count": 18,
   "metadata": {},
   "outputs": [
    {
     "output_type": "execute_result",
     "data": {
      "text/plain": [
       "   City_ID       City Country    Lat     Lng  Max Temp  Humidity  Cloudiness  \\\n",
       "0        0   Thompson      CA  55.74  -97.86     -4.00        83          20   \n",
       "1        1       Miri      MY   4.41  114.01     78.80        94          40   \n",
       "2        2   Bengkulu      ID  -3.80  102.27     75.79        86          83   \n",
       "3        3  Iranshahr      IR  27.20   60.68     75.20        14           0   \n",
       "4        4  Busselton      AU -33.65  115.33     54.00        95          62   \n",
       "\n",
       "   Wind Speed Current Description  \n",
       "0        5.82          few clouds  \n",
       "1        6.93    scattered clouds  \n",
       "2        5.23          light rain  \n",
       "3        4.70           clear sky  \n",
       "4       17.65       broken clouds  "
      ],
      "text/html": "<div>\n<style scoped>\n    .dataframe tbody tr th:only-of-type {\n        vertical-align: middle;\n    }\n\n    .dataframe tbody tr th {\n        vertical-align: top;\n    }\n\n    .dataframe thead th {\n        text-align: right;\n    }\n</style>\n<table border=\"1\" class=\"dataframe\">\n  <thead>\n    <tr style=\"text-align: right;\">\n      <th></th>\n      <th>City_ID</th>\n      <th>City</th>\n      <th>Country</th>\n      <th>Lat</th>\n      <th>Lng</th>\n      <th>Max Temp</th>\n      <th>Humidity</th>\n      <th>Cloudiness</th>\n      <th>Wind Speed</th>\n      <th>Current Description</th>\n    </tr>\n  </thead>\n  <tbody>\n    <tr>\n      <th>0</th>\n      <td>0</td>\n      <td>Thompson</td>\n      <td>CA</td>\n      <td>55.74</td>\n      <td>-97.86</td>\n      <td>-4.00</td>\n      <td>83</td>\n      <td>20</td>\n      <td>5.82</td>\n      <td>few clouds</td>\n    </tr>\n    <tr>\n      <th>1</th>\n      <td>1</td>\n      <td>Miri</td>\n      <td>MY</td>\n      <td>4.41</td>\n      <td>114.01</td>\n      <td>78.80</td>\n      <td>94</td>\n      <td>40</td>\n      <td>6.93</td>\n      <td>scattered clouds</td>\n    </tr>\n    <tr>\n      <th>2</th>\n      <td>2</td>\n      <td>Bengkulu</td>\n      <td>ID</td>\n      <td>-3.80</td>\n      <td>102.27</td>\n      <td>75.79</td>\n      <td>86</td>\n      <td>83</td>\n      <td>5.23</td>\n      <td>light rain</td>\n    </tr>\n    <tr>\n      <th>3</th>\n      <td>3</td>\n      <td>Iranshahr</td>\n      <td>IR</td>\n      <td>27.20</td>\n      <td>60.68</td>\n      <td>75.20</td>\n      <td>14</td>\n      <td>0</td>\n      <td>4.70</td>\n      <td>clear sky</td>\n    </tr>\n    <tr>\n      <th>4</th>\n      <td>4</td>\n      <td>Busselton</td>\n      <td>AU</td>\n      <td>-33.65</td>\n      <td>115.33</td>\n      <td>54.00</td>\n      <td>95</td>\n      <td>62</td>\n      <td>17.65</td>\n      <td>broken clouds</td>\n    </tr>\n  </tbody>\n</table>\n</div>"
     },
     "metadata": {},
     "execution_count": 18
    }
   ],
   "source": [
    "# 1. Import the WeatherPy_database.csv file. \n",
    "city_data_df = pd.read_csv(\"../Weather_Database/WeatherPy_database.csv\")\n",
    "city_data_df.head()"
   ]
  },
  {
   "cell_type": "code",
   "execution_count": 19,
   "metadata": {},
   "outputs": [],
   "source": [
    "# 2. Prompt the user to enter minimum and maximum temperature criteria \n",
    "# Ask the customer to add a minimum and maximum temperature value.\n",
    "min_temp = float(input(\"What is the minimum temperature you would like for your trip? \"))\n",
    "max_temp = float(input(\"What is the maximum temperature you would like for your trip? \"))"
   ]
  },
  {
   "cell_type": "code",
   "execution_count": 20,
   "metadata": {},
   "outputs": [
    {
     "output_type": "execute_result",
     "data": {
      "text/plain": [
       "    City_ID           City Country    Lat     Lng  Max Temp  Humidity  \\\n",
       "4         4      Busselton      AU -33.65  115.33     54.00        95   \n",
       "5         5  Mount Gambier      AU -37.83  140.77     46.40       100   \n",
       "9         9           Faya      SA  18.39   42.45     64.40        63   \n",
       "10       10   Kruisfontein      ZA -34.00   24.73     70.00        58   \n",
       "11       11         Itoman      JP  26.12  127.67     68.00        60   \n",
       "19       19   Christchurch      NZ -43.53  172.63     55.00        81   \n",
       "22       22          Bluff      NZ -46.60  168.33     52.00        85   \n",
       "24       24    New Norfolk      AU -42.78  147.06     48.99        64   \n",
       "25       25    Port Alfred      ZA -33.59   26.89     68.29        67   \n",
       "27       27        Ushuaia      AR -54.80  -68.30     44.60        75   \n",
       "\n",
       "    Cloudiness  Wind Speed Current Description  \n",
       "4           62       17.65       broken clouds  \n",
       "5            0        2.51           clear sky  \n",
       "9           40        6.93    scattered clouds  \n",
       "10           0        5.99           clear sky  \n",
       "11          75       17.22       broken clouds  \n",
       "19          91       11.41     overcast clouds  \n",
       "22         100        6.76     overcast clouds  \n",
       "24           3        2.68           clear sky  \n",
       "25           0       12.59           clear sky  \n",
       "27          75       21.92       broken clouds  "
      ],
      "text/html": "<div>\n<style scoped>\n    .dataframe tbody tr th:only-of-type {\n        vertical-align: middle;\n    }\n\n    .dataframe tbody tr th {\n        vertical-align: top;\n    }\n\n    .dataframe thead th {\n        text-align: right;\n    }\n</style>\n<table border=\"1\" class=\"dataframe\">\n  <thead>\n    <tr style=\"text-align: right;\">\n      <th></th>\n      <th>City_ID</th>\n      <th>City</th>\n      <th>Country</th>\n      <th>Lat</th>\n      <th>Lng</th>\n      <th>Max Temp</th>\n      <th>Humidity</th>\n      <th>Cloudiness</th>\n      <th>Wind Speed</th>\n      <th>Current Description</th>\n    </tr>\n  </thead>\n  <tbody>\n    <tr>\n      <th>4</th>\n      <td>4</td>\n      <td>Busselton</td>\n      <td>AU</td>\n      <td>-33.65</td>\n      <td>115.33</td>\n      <td>54.00</td>\n      <td>95</td>\n      <td>62</td>\n      <td>17.65</td>\n      <td>broken clouds</td>\n    </tr>\n    <tr>\n      <th>5</th>\n      <td>5</td>\n      <td>Mount Gambier</td>\n      <td>AU</td>\n      <td>-37.83</td>\n      <td>140.77</td>\n      <td>46.40</td>\n      <td>100</td>\n      <td>0</td>\n      <td>2.51</td>\n      <td>clear sky</td>\n    </tr>\n    <tr>\n      <th>9</th>\n      <td>9</td>\n      <td>Faya</td>\n      <td>SA</td>\n      <td>18.39</td>\n      <td>42.45</td>\n      <td>64.40</td>\n      <td>63</td>\n      <td>40</td>\n      <td>6.93</td>\n      <td>scattered clouds</td>\n    </tr>\n    <tr>\n      <th>10</th>\n      <td>10</td>\n      <td>Kruisfontein</td>\n      <td>ZA</td>\n      <td>-34.00</td>\n      <td>24.73</td>\n      <td>70.00</td>\n      <td>58</td>\n      <td>0</td>\n      <td>5.99</td>\n      <td>clear sky</td>\n    </tr>\n    <tr>\n      <th>11</th>\n      <td>11</td>\n      <td>Itoman</td>\n      <td>JP</td>\n      <td>26.12</td>\n      <td>127.67</td>\n      <td>68.00</td>\n      <td>60</td>\n      <td>75</td>\n      <td>17.22</td>\n      <td>broken clouds</td>\n    </tr>\n    <tr>\n      <th>19</th>\n      <td>19</td>\n      <td>Christchurch</td>\n      <td>NZ</td>\n      <td>-43.53</td>\n      <td>172.63</td>\n      <td>55.00</td>\n      <td>81</td>\n      <td>91</td>\n      <td>11.41</td>\n      <td>overcast clouds</td>\n    </tr>\n    <tr>\n      <th>22</th>\n      <td>22</td>\n      <td>Bluff</td>\n      <td>NZ</td>\n      <td>-46.60</td>\n      <td>168.33</td>\n      <td>52.00</td>\n      <td>85</td>\n      <td>100</td>\n      <td>6.76</td>\n      <td>overcast clouds</td>\n    </tr>\n    <tr>\n      <th>24</th>\n      <td>24</td>\n      <td>New Norfolk</td>\n      <td>AU</td>\n      <td>-42.78</td>\n      <td>147.06</td>\n      <td>48.99</td>\n      <td>64</td>\n      <td>3</td>\n      <td>2.68</td>\n      <td>clear sky</td>\n    </tr>\n    <tr>\n      <th>25</th>\n      <td>25</td>\n      <td>Port Alfred</td>\n      <td>ZA</td>\n      <td>-33.59</td>\n      <td>26.89</td>\n      <td>68.29</td>\n      <td>67</td>\n      <td>0</td>\n      <td>12.59</td>\n      <td>clear sky</td>\n    </tr>\n    <tr>\n      <th>27</th>\n      <td>27</td>\n      <td>Ushuaia</td>\n      <td>AR</td>\n      <td>-54.80</td>\n      <td>-68.30</td>\n      <td>44.60</td>\n      <td>75</td>\n      <td>75</td>\n      <td>21.92</td>\n      <td>broken clouds</td>\n    </tr>\n  </tbody>\n</table>\n</div>"
     },
     "metadata": {},
     "execution_count": 20
    }
   ],
   "source": [
    "# 3. Filter the city_data_df DataFrame using the input statements to create a new DataFrame using the loc method.\n",
    "preferred_cities_df = city_data_df.loc[(city_data_df[\"Max Temp\"] <= max_temp) & \\\n",
    "                                       (city_data_df[\"Max Temp\"] >= min_temp)]\n",
    "preferred_cities_df.head(10)"
   ]
  },
  {
   "cell_type": "code",
   "execution_count": 21,
   "metadata": {},
   "outputs": [
    {
     "output_type": "execute_result",
     "data": {
      "text/plain": [
       "City_ID                201\n",
       "City                   201\n",
       "Country                200\n",
       "Lat                    201\n",
       "Lng                    201\n",
       "Max Temp               201\n",
       "Humidity               201\n",
       "Cloudiness             201\n",
       "Wind Speed             201\n",
       "Current Description    201\n",
       "dtype: int64"
      ]
     },
     "metadata": {},
     "execution_count": 21
    }
   ],
   "source": [
    "# 4a. Determine if there are any empty rows.\n",
    "preferred_cities_df.count()"
   ]
  },
  {
   "cell_type": "code",
   "execution_count": 22,
   "metadata": {},
   "outputs": [],
   "source": [
    "# 4b. Drop any empty rows and create a new DataFrame that doesn’t have empty rows.\n",
    "clean_df = preferred_cities_df.dropna()"
   ]
  },
  {
   "cell_type": "code",
   "execution_count": 24,
   "metadata": {},
   "outputs": [
    {
     "output_type": "execute_result",
     "data": {
      "text/plain": [
       "             City Country  Max Temp Current Description    Lat     Lng  \\\n",
       "4       Busselton      AU     54.00       broken clouds -33.65  115.33   \n",
       "5   Mount Gambier      AU     46.40           clear sky -37.83  140.77   \n",
       "9            Faya      SA     64.40    scattered clouds  18.39   42.45   \n",
       "10   Kruisfontein      ZA     70.00           clear sky -34.00   24.73   \n",
       "11         Itoman      JP     68.00       broken clouds  26.12  127.67   \n",
       "19   Christchurch      NZ     55.00     overcast clouds -43.53  172.63   \n",
       "22          Bluff      NZ     52.00     overcast clouds -46.60  168.33   \n",
       "24    New Norfolk      AU     48.99           clear sky -42.78  147.06   \n",
       "25    Port Alfred      ZA     68.29           clear sky -33.59   26.89   \n",
       "27        Ushuaia      AR     44.60       broken clouds -54.80  -68.30   \n",
       "\n",
       "   Hotel Name  \n",
       "4              \n",
       "5              \n",
       "9              \n",
       "10             \n",
       "11             \n",
       "19             \n",
       "22             \n",
       "24             \n",
       "25             \n",
       "27             "
      ],
      "text/html": "<div>\n<style scoped>\n    .dataframe tbody tr th:only-of-type {\n        vertical-align: middle;\n    }\n\n    .dataframe tbody tr th {\n        vertical-align: top;\n    }\n\n    .dataframe thead th {\n        text-align: right;\n    }\n</style>\n<table border=\"1\" class=\"dataframe\">\n  <thead>\n    <tr style=\"text-align: right;\">\n      <th></th>\n      <th>City</th>\n      <th>Country</th>\n      <th>Max Temp</th>\n      <th>Current Description</th>\n      <th>Lat</th>\n      <th>Lng</th>\n      <th>Hotel Name</th>\n    </tr>\n  </thead>\n  <tbody>\n    <tr>\n      <th>4</th>\n      <td>Busselton</td>\n      <td>AU</td>\n      <td>54.00</td>\n      <td>broken clouds</td>\n      <td>-33.65</td>\n      <td>115.33</td>\n      <td></td>\n    </tr>\n    <tr>\n      <th>5</th>\n      <td>Mount Gambier</td>\n      <td>AU</td>\n      <td>46.40</td>\n      <td>clear sky</td>\n      <td>-37.83</td>\n      <td>140.77</td>\n      <td></td>\n    </tr>\n    <tr>\n      <th>9</th>\n      <td>Faya</td>\n      <td>SA</td>\n      <td>64.40</td>\n      <td>scattered clouds</td>\n      <td>18.39</td>\n      <td>42.45</td>\n      <td></td>\n    </tr>\n    <tr>\n      <th>10</th>\n      <td>Kruisfontein</td>\n      <td>ZA</td>\n      <td>70.00</td>\n      <td>clear sky</td>\n      <td>-34.00</td>\n      <td>24.73</td>\n      <td></td>\n    </tr>\n    <tr>\n      <th>11</th>\n      <td>Itoman</td>\n      <td>JP</td>\n      <td>68.00</td>\n      <td>broken clouds</td>\n      <td>26.12</td>\n      <td>127.67</td>\n      <td></td>\n    </tr>\n    <tr>\n      <th>19</th>\n      <td>Christchurch</td>\n      <td>NZ</td>\n      <td>55.00</td>\n      <td>overcast clouds</td>\n      <td>-43.53</td>\n      <td>172.63</td>\n      <td></td>\n    </tr>\n    <tr>\n      <th>22</th>\n      <td>Bluff</td>\n      <td>NZ</td>\n      <td>52.00</td>\n      <td>overcast clouds</td>\n      <td>-46.60</td>\n      <td>168.33</td>\n      <td></td>\n    </tr>\n    <tr>\n      <th>24</th>\n      <td>New Norfolk</td>\n      <td>AU</td>\n      <td>48.99</td>\n      <td>clear sky</td>\n      <td>-42.78</td>\n      <td>147.06</td>\n      <td></td>\n    </tr>\n    <tr>\n      <th>25</th>\n      <td>Port Alfred</td>\n      <td>ZA</td>\n      <td>68.29</td>\n      <td>clear sky</td>\n      <td>-33.59</td>\n      <td>26.89</td>\n      <td></td>\n    </tr>\n    <tr>\n      <th>27</th>\n      <td>Ushuaia</td>\n      <td>AR</td>\n      <td>44.60</td>\n      <td>broken clouds</td>\n      <td>-54.80</td>\n      <td>-68.30</td>\n      <td></td>\n    </tr>\n  </tbody>\n</table>\n</div>"
     },
     "metadata": {},
     "execution_count": 24
    }
   ],
   "source": [
    "# 5a. Create DataFrame called hotel_df to store hotel names along with city, country, max temp, and coordinates.\n",
    "hotel_df = clean_df[[\"City\", \"Country\", \"Max Temp\", \"Current Description\", \"Lat\", \"Lng\"]].copy()\n",
    "\n",
    "# 5b. Create a new column \"Hotel Name\"\n",
    "hotel_df[\"Hotel Name\"] = \"\"\n",
    "hotel_df.head(10)"
   ]
  },
  {
   "cell_type": "code",
   "execution_count": 25,
   "metadata": {},
   "outputs": [
    {
     "output_type": "stream",
     "name": "stdout",
     "text": [
      "Hotel not found for Marzuq\n",
      "Hotel not found for Abu Samrah\n",
      "Hotel not found for Canakkale\n"
     ]
    }
   ],
   "source": [
    "# 6a. Set parameters to search for hotels with 5000 meters.\n",
    "params = {\n",
    "    \"radius\": 5000,\n",
    "    \"type\": \"lodging\",\n",
    "    \"key\": g_key\n",
    "}\n",
    "\n",
    "\n",
    "# 6b. Iterate through the hotel DataFrame.\n",
    "for index, row in hotel_df.iterrows():\n",
    "\n",
    "    # 6c. Get latitude and longitude from DataFrame\n",
    "    lat = row[\"Lat\"]\n",
    "    lng = row[\"Lng\"]\n",
    "    params[\"location\"] = f\"{lat},{lng}\"\n",
    "    \n",
    "    # 6d. Set up the base URL for the Google Directions API to get JSON data.\n",
    "    base_url = \"https://maps.googleapis.com/maps/api/place/nearbysearch/json\"\n",
    "\n",
    "    # 6e. Make request and retrieve the JSON data from the search. \n",
    "    hotels = requests.get(base_url, params=params).json()\n",
    "    \n",
    "    # 6f. Get the first hotel from the results and store the name, if a hotel isn't found skip the city.\n",
    "    try:\n",
    "        hotel_df.loc[index, \"Hotel Name\"] = hotels[\"results\"][0][\"name\"]\n",
    "    except:\n",
    "        print(\"Hotel not found for \"+row[\"City\"])\n",
    "        pass\n",
    "        "
   ]
  },
  {
   "cell_type": "code",
   "execution_count": 58,
   "metadata": {},
   "outputs": [
    {
     "output_type": "execute_result",
     "data": {
      "text/plain": [
       "                 City Country  Max Temp Current Description    Lat     Lng  \\\n",
       "4           Busselton      AU      54.0       broken clouds -33.65  115.33   \n",
       "5       Mount Gambier      AU      46.4           clear sky -37.83  140.77   \n",
       "9                Faya      SA      64.4    scattered clouds  18.39   42.45   \n",
       "10       Kruisfontein      ZA      70.0           clear sky -34.00   24.73   \n",
       "11             Itoman      JP      68.0       broken clouds  26.12  127.67   \n",
       "..                ...     ...       ...                 ...    ...     ...   \n",
       "657              Tezu      IN      64.4           clear sky  27.92   96.17   \n",
       "663           Russell      US      59.0          light rain  32.35  -85.20   \n",
       "666        Winchester      GB      48.2       broken clouds  51.07   -1.32   \n",
       "671  San Buenaventura      MX      63.0           clear sky  27.08 -101.53   \n",
       "673          Ayacucho      PE      53.6          light rain -13.16  -74.22   \n",
       "\n",
       "                                Hotel Name  \n",
       "4                  Observatory Guest House  \n",
       "5                    Commodore on the Park  \n",
       "9                            مقبرة ال مجمل  \n",
       "10                 Oyster Bay House Rental  \n",
       "11   Southern Beach Hotel & Resort Okinawa  \n",
       "..                                     ...  \n",
       "657                          Circuit House  \n",
       "663                                   Macs  \n",
       "666                         Lainston House  \n",
       "671                       Hotel Gran Plaza  \n",
       "673                          Hotel Incasol  \n",
       "\n",
       "[197 rows x 7 columns]"
      ],
      "text/html": "<div>\n<style scoped>\n    .dataframe tbody tr th:only-of-type {\n        vertical-align: middle;\n    }\n\n    .dataframe tbody tr th {\n        vertical-align: top;\n    }\n\n    .dataframe thead th {\n        text-align: right;\n    }\n</style>\n<table border=\"1\" class=\"dataframe\">\n  <thead>\n    <tr style=\"text-align: right;\">\n      <th></th>\n      <th>City</th>\n      <th>Country</th>\n      <th>Max Temp</th>\n      <th>Current Description</th>\n      <th>Lat</th>\n      <th>Lng</th>\n      <th>Hotel Name</th>\n    </tr>\n  </thead>\n  <tbody>\n    <tr>\n      <th>4</th>\n      <td>Busselton</td>\n      <td>AU</td>\n      <td>54.0</td>\n      <td>broken clouds</td>\n      <td>-33.65</td>\n      <td>115.33</td>\n      <td>Observatory Guest House</td>\n    </tr>\n    <tr>\n      <th>5</th>\n      <td>Mount Gambier</td>\n      <td>AU</td>\n      <td>46.4</td>\n      <td>clear sky</td>\n      <td>-37.83</td>\n      <td>140.77</td>\n      <td>Commodore on the Park</td>\n    </tr>\n    <tr>\n      <th>9</th>\n      <td>Faya</td>\n      <td>SA</td>\n      <td>64.4</td>\n      <td>scattered clouds</td>\n      <td>18.39</td>\n      <td>42.45</td>\n      <td>مقبرة ال مجمل</td>\n    </tr>\n    <tr>\n      <th>10</th>\n      <td>Kruisfontein</td>\n      <td>ZA</td>\n      <td>70.0</td>\n      <td>clear sky</td>\n      <td>-34.00</td>\n      <td>24.73</td>\n      <td>Oyster Bay House Rental</td>\n    </tr>\n    <tr>\n      <th>11</th>\n      <td>Itoman</td>\n      <td>JP</td>\n      <td>68.0</td>\n      <td>broken clouds</td>\n      <td>26.12</td>\n      <td>127.67</td>\n      <td>Southern Beach Hotel &amp; Resort Okinawa</td>\n    </tr>\n    <tr>\n      <th>...</th>\n      <td>...</td>\n      <td>...</td>\n      <td>...</td>\n      <td>...</td>\n      <td>...</td>\n      <td>...</td>\n      <td>...</td>\n    </tr>\n    <tr>\n      <th>657</th>\n      <td>Tezu</td>\n      <td>IN</td>\n      <td>64.4</td>\n      <td>clear sky</td>\n      <td>27.92</td>\n      <td>96.17</td>\n      <td>Circuit House</td>\n    </tr>\n    <tr>\n      <th>663</th>\n      <td>Russell</td>\n      <td>US</td>\n      <td>59.0</td>\n      <td>light rain</td>\n      <td>32.35</td>\n      <td>-85.20</td>\n      <td>Macs</td>\n    </tr>\n    <tr>\n      <th>666</th>\n      <td>Winchester</td>\n      <td>GB</td>\n      <td>48.2</td>\n      <td>broken clouds</td>\n      <td>51.07</td>\n      <td>-1.32</td>\n      <td>Lainston House</td>\n    </tr>\n    <tr>\n      <th>671</th>\n      <td>San Buenaventura</td>\n      <td>MX</td>\n      <td>63.0</td>\n      <td>clear sky</td>\n      <td>27.08</td>\n      <td>-101.53</td>\n      <td>Hotel Gran Plaza</td>\n    </tr>\n    <tr>\n      <th>673</th>\n      <td>Ayacucho</td>\n      <td>PE</td>\n      <td>53.6</td>\n      <td>light rain</td>\n      <td>-13.16</td>\n      <td>-74.22</td>\n      <td>Hotel Incasol</td>\n    </tr>\n  </tbody>\n</table>\n<p>197 rows × 7 columns</p>\n</div>"
     },
     "metadata": {},
     "execution_count": 58
    }
   ],
   "source": [
    "# 7. Drop the rows where there is no Hotel Name.\n",
    "import numpy as np\n",
    "clean_hotel_df = hotel_df.copy()\n",
    "clean_hotel_df[\"Hotel Name\"].replace(\"\", np.nan, inplace=True)\n",
    "clean_hotel_df.dropna(subset=[\"Hotel Name\"], inplace=True)\n",
    "\n",
    "clean_hotel_df"
   ]
  },
  {
   "cell_type": "code",
   "execution_count": 59,
   "metadata": {},
   "outputs": [],
   "source": [
    "# 8a. Create the output File (CSV)\n",
    "output_data_file = \"WeatherPy_vacation.csv\"\n",
    "# 8b. Export the City_Data into a csv\n",
    "clean_hotel_df.to_csv(output_data_file, index_label=\"City_ID\")"
   ]
  },
  {
   "cell_type": "code",
   "execution_count": 68,
   "metadata": {},
   "outputs": [],
   "source": [
    "# 9. Using the template add city name, the country code, the weather description and maximum temperature for the city.\n",
    "info_box_template = \"\"\"\n",
    "<dl>\n",
    "<dt><b>Hotel Name</b></dt><dd>{Hotel Name}</dd>\n",
    "<dt><b>City</b></dt><dd>{City}</dd>\n",
    "<dt><b>Country</b></dt><dd>{Country}</dd>\n",
    "<dt><b>Current Weather</b></dt><dd>{Current Description} and {Max Temp} °F</dd>\n",
    "</dl>\n",
    "\"\"\"\n",
    "\n",
    "# 10a. Get the data from each row and add it to the formatting template and store the data in a list.\n",
    "hotel_info = [info_box_template.format(**row) for index, row in clean_hotel_df.iterrows()]\n",
    "\n",
    "# 10b. Get the latitude and longitude from each row and store in a new DataFrame.\n",
    "locations = clean_hotel_df[[\"Lat\", \"Lng\"]]\n",
    "\n",
    "#hotel_info"
   ]
  },
  {
   "cell_type": "code",
   "execution_count": 69,
   "metadata": {},
   "outputs": [
    {
     "output_type": "display_data",
     "data": {
      "text/plain": "Figure(layout=FigureLayout(height='420px'))",
      "application/vnd.jupyter.widget-view+json": {
       "version_major": 2,
       "version_minor": 0,
       "model_id": "0753df166d764cb1a988dd25ea80e38c"
      }
     },
     "metadata": {}
    }
   ],
   "source": [
    "fig = gmaps.figure(center=(30.0, 31.0), zoom_level=1.5)\n",
    "\n",
    "# 11a. Add a marker layer for each city to the map. \n",
    "marker_layer = gmaps.marker_layer(locations, info_box_content=hotel_info)\n",
    "# 11b. Display the figure\n",
    "fig.add_layer(marker_layer)\n",
    "fig"
   ]
  },
  {
   "cell_type": "code",
   "execution_count": null,
   "metadata": {},
   "outputs": [],
   "source": []
  },
  {
   "cell_type": "code",
   "execution_count": null,
   "metadata": {},
   "outputs": [],
   "source": []
  }
 ],
 "metadata": {
  "kernelspec": {
   "display_name": "PythonData",
   "language": "python",
   "name": "pythondata"
  },
  "language_info": {
   "codemirror_mode": {
    "name": "ipython",
    "version": 3
   },
   "file_extension": ".py",
   "mimetype": "text/x-python",
   "name": "python",
   "nbconvert_exporter": "python",
   "pygments_lexer": "ipython3",
   "version": "3.7.7-final"
  },
  "latex_envs": {
   "LaTeX_envs_menu_present": true,
   "autoclose": false,
   "autocomplete": true,
   "bibliofile": "biblio.bib",
   "cite_by": "apalike",
   "current_citInitial": 1,
   "eqLabelWithNumbers": true,
   "eqNumInitial": 1,
   "hotkeys": {
    "equation": "Ctrl-E",
    "itemize": "Ctrl-I"
   },
   "labels_anchors": false,
   "latex_user_defs": false,
   "report_style_numbering": false,
   "user_envs_cfg": false
  }
 },
 "nbformat": 4,
 "nbformat_minor": 2
}