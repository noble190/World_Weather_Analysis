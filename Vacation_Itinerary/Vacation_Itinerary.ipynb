{
 "cells": [
  {
   "cell_type": "markdown",
   "metadata": {},
   "source": [
    "## Deliverable 3. Create a Travel Itinerary Map."
   ]
  },
  {
   "cell_type": "code",
   "execution_count": 39,
   "metadata": {},
   "outputs": [],
   "source": [
    "# Dependencies and Setup\n",
    "import pandas as pd\n",
    "import requests\n",
    "import gmaps\n",
    "import gmaps.datasets\n",
    "import numpy as np\n",
    "\n",
    "# Import API key\n",
    "from config import g_key\n",
    "\n",
    "# Configure gmaps\n",
    "gmaps.configure(api_key=g_key)"
   ]
  },
  {
   "cell_type": "code",
   "execution_count": 4,
   "metadata": {},
   "outputs": [
    {
     "output_type": "execute_result",
     "data": {
      "text/plain": [
       "   City_ID           City Country  Max Temp Current Description    Lat  \\\n",
       "0        4      Busselton      AU      54.0       broken clouds -33.65   \n",
       "1        5  Mount Gambier      AU      46.4           clear sky -37.83   \n",
       "2        9           Faya      SA      64.4    scattered clouds  18.39   \n",
       "3       10   Kruisfontein      ZA      70.0           clear sky -34.00   \n",
       "4       11         Itoman      JP      68.0       broken clouds  26.12   \n",
       "\n",
       "      Lng                             Hotel Name  \n",
       "0  115.33                Observatory Guest House  \n",
       "1  140.77                  Commodore on the Park  \n",
       "2   42.45                          مقبرة ال مجمل  \n",
       "3   24.73                Oyster Bay House Rental  \n",
       "4  127.67  Southern Beach Hotel & Resort Okinawa  "
      ],
      "text/html": "<div>\n<style scoped>\n    .dataframe tbody tr th:only-of-type {\n        vertical-align: middle;\n    }\n\n    .dataframe tbody tr th {\n        vertical-align: top;\n    }\n\n    .dataframe thead th {\n        text-align: right;\n    }\n</style>\n<table border=\"1\" class=\"dataframe\">\n  <thead>\n    <tr style=\"text-align: right;\">\n      <th></th>\n      <th>City_ID</th>\n      <th>City</th>\n      <th>Country</th>\n      <th>Max Temp</th>\n      <th>Current Description</th>\n      <th>Lat</th>\n      <th>Lng</th>\n      <th>Hotel Name</th>\n    </tr>\n  </thead>\n  <tbody>\n    <tr>\n      <th>0</th>\n      <td>4</td>\n      <td>Busselton</td>\n      <td>AU</td>\n      <td>54.0</td>\n      <td>broken clouds</td>\n      <td>-33.65</td>\n      <td>115.33</td>\n      <td>Observatory Guest House</td>\n    </tr>\n    <tr>\n      <th>1</th>\n      <td>5</td>\n      <td>Mount Gambier</td>\n      <td>AU</td>\n      <td>46.4</td>\n      <td>clear sky</td>\n      <td>-37.83</td>\n      <td>140.77</td>\n      <td>Commodore on the Park</td>\n    </tr>\n    <tr>\n      <th>2</th>\n      <td>9</td>\n      <td>Faya</td>\n      <td>SA</td>\n      <td>64.4</td>\n      <td>scattered clouds</td>\n      <td>18.39</td>\n      <td>42.45</td>\n      <td>مقبرة ال مجمل</td>\n    </tr>\n    <tr>\n      <th>3</th>\n      <td>10</td>\n      <td>Kruisfontein</td>\n      <td>ZA</td>\n      <td>70.0</td>\n      <td>clear sky</td>\n      <td>-34.00</td>\n      <td>24.73</td>\n      <td>Oyster Bay House Rental</td>\n    </tr>\n    <tr>\n      <th>4</th>\n      <td>11</td>\n      <td>Itoman</td>\n      <td>JP</td>\n      <td>68.0</td>\n      <td>broken clouds</td>\n      <td>26.12</td>\n      <td>127.67</td>\n      <td>Southern Beach Hotel &amp; Resort Okinawa</td>\n    </tr>\n  </tbody>\n</table>\n</div>"
     },
     "metadata": {},
     "execution_count": 4
    }
   ],
   "source": [
    "# 1. Read the WeatherPy_vacation.csv into a DataFrame.\n",
    "vacation_df = pd.read_csv(\"../Vacation_Search/WeatherPy_vacation.csv\")\n",
    "vacation_df.head()"
   ]
  },
  {
   "cell_type": "code",
   "execution_count": 6,
   "metadata": {},
   "outputs": [],
   "source": [
    "# 2. Using the template add the city name, the country code, the weather description and maximum temperature for the city.\n",
    "info_box_template = \"\"\"\n",
    "<dl>\n",
    "<dt><b>Hotel Name</b></dt><dd>{Hotel Name}</dd>\n",
    "<dt><b>City</b></dt><dd>{City}</dd>\n",
    "<dt><b>Country</b></dt><dd>{Country}</dd>\n",
    "<dt><b>Current Weather</b></dt><dd>{Current Description} and {Max Temp} °F</dd>\n",
    "</dl>\n",
    "\"\"\"\n",
    "\n",
    "# 3a. Get the data from each row and add it to the formatting template and store the data in a list.\n",
    "hotel_info = [info_box_template.format(**row) for index, row in vacation_df.iterrows()]\n",
    "\n",
    "# 3b. Get the latitude and longitude from each row and store in a new DataFrame.\n",
    "locations = vacation_df[[\"Lat\", \"Lng\"]]"
   ]
  },
  {
   "cell_type": "code",
   "execution_count": 7,
   "metadata": {},
   "outputs": [
    {
     "output_type": "display_data",
     "data": {
      "text/plain": "Figure(layout=FigureLayout(height='420px'))",
      "application/vnd.jupyter.widget-view+json": {
       "version_major": 2,
       "version_minor": 0,
       "model_id": "17f1e5371bda4a468be62ba8d905166c"
      }
     },
     "metadata": {}
    }
   ],
   "source": [
    "fig = gmaps.figure(center=(30.0, 31.0), zoom_level=1.5)\n",
    "\n",
    "# 4a. Add a marker layer for each city to the map.\n",
    "marker_layer = gmaps.marker_layer(locations, info_box_content=hotel_info)\n",
    "# 4b. Display the figure\n",
    "fig.add_layer(marker_layer)\n",
    "fig\n"
   ]
  },
  {
   "cell_type": "code",
   "execution_count": 31,
   "metadata": {},
   "outputs": [
    {
     "output_type": "execute_result",
     "data": {
      "text/plain": [
       "     City_ID       City Country  Max Temp Current Description    Lat  Lng  \\\n",
       "182      610  Salisbury      GB      44.6                mist  51.07 -1.8   \n",
       "\n",
       "                             Hotel Name  \n",
       "182  Mercure Salisbury White Hart Hotel  "
      ],
      "text/html": "<div>\n<style scoped>\n    .dataframe tbody tr th:only-of-type {\n        vertical-align: middle;\n    }\n\n    .dataframe tbody tr th {\n        vertical-align: top;\n    }\n\n    .dataframe thead th {\n        text-align: right;\n    }\n</style>\n<table border=\"1\" class=\"dataframe\">\n  <thead>\n    <tr style=\"text-align: right;\">\n      <th></th>\n      <th>City_ID</th>\n      <th>City</th>\n      <th>Country</th>\n      <th>Max Temp</th>\n      <th>Current Description</th>\n      <th>Lat</th>\n      <th>Lng</th>\n      <th>Hotel Name</th>\n    </tr>\n  </thead>\n  <tbody>\n    <tr>\n      <th>182</th>\n      <td>610</td>\n      <td>Salisbury</td>\n      <td>GB</td>\n      <td>44.6</td>\n      <td>mist</td>\n      <td>51.07</td>\n      <td>-1.8</td>\n      <td>Mercure Salisbury White Hart Hotel</td>\n    </tr>\n  </tbody>\n</table>\n</div>"
     },
     "metadata": {},
     "execution_count": 31
    }
   ],
   "source": [
    "# From the map above pick 4 cities and create a vacation itinerary route to travel between the four cities. \n",
    "# 5. Create DataFrames for each city by filtering the 'vacation_df' using the loc method. \n",
    "# Hint: The starting and ending city should be the same city.\n",
    "\n",
    "vacation_start = vacation_df.loc[(vacation_df[\"City\"] == \"Salisbury\") & (vacation_df[\"Country\"] == \"GB\")]\n",
    "vacation_end = vacation_df.loc[(vacation_df[\"City\"] == \"Salisbury\") & (vacation_df[\"Country\"] == \"GB\")]\n",
    "vacation_stop1 = vacation_df.loc[(vacation_df[\"City\"] == \"Winchester\") & (vacation_df[\"Country\"] == \"GB\")]\n",
    "vacation_stop2 = vacation_df.loc[(vacation_df[\"City\"] == \"Ashington\") & (vacation_df[\"Country\"] == \"GB\")]\n",
    "vacation_stop3 = vacation_df.loc[(vacation_df[\"City\"] == \"Margate\") & (vacation_df[\"Country\"] == \"GB\")]\n"
   ]
  },
  {
   "cell_type": "code",
   "execution_count": 38,
   "metadata": {},
   "outputs": [],
   "source": [
    "# 6. Get the latitude-longitude pairs as tuples from each city DataFrame using the to_numpy function and list indexing.\n",
    "\n",
    "# Get index of lat and long columns in the dataframe\n",
    "idxLat = vacation_end.columns.get_loc(\"Lat\")\n",
    "idxLng = vacation_end.columns.get_loc(\"Lng\")\n",
    "\n",
    "# Save converted arrays into vars to avoid performing the conversion twice, if done inline. index of 0 is used, as our dataframes are strictly single-row\n",
    "startArr = vacation_start.to_numpy()[0]\n",
    "endArr = vacation_end.to_numpy()[0]\n",
    "stop1Arr = vacation_stop1.to_numpy()[0]\n",
    "stop2Arr = vacation_stop2.to_numpy()[0]\n",
    "stop3Arr = vacation_stop3.to_numpy()[0]\n",
    "\n",
    "# Save lat-long pairs as tuples\n",
    "start = (startArr[idxLat], startArr[idxLng])\n",
    "end = (endArr[idxLat], endArr[idxLng])\n",
    "stop1 = (stop1Arr[idxLat], stop1Arr[idxLng])\n",
    "stop2 = (stop2Arr[idxLat], stop2Arr[idxLng])\n",
    "stop3 = (stop3Arr[idxLat], stop3Arr[idxLng])\n"
   ]
  },
  {
   "cell_type": "code",
   "execution_count": 40,
   "metadata": {
    "scrolled": true
   },
   "outputs": [
    {
     "output_type": "display_data",
     "data": {
      "text/plain": "Figure(layout=FigureLayout(height='420px'))",
      "application/vnd.jupyter.widget-view+json": {
       "version_major": 2,
       "version_minor": 0,
       "model_id": "d824f8472ac94ae8a574b3373e3cb60b"
      }
     },
     "metadata": {}
    }
   ],
   "source": [
    "# 7. Create a direction layer map using the start and end latitude-longitude pairs,\n",
    "# and stop1, stop2, and stop3 as the waypoints. The travel_mode should be \"DRIVING\", \"BICYCLING\", or \"WALKING\".\n",
    "figDir = gmaps.figure()\n",
    "vacationPath = gmaps.directions_layer(\n",
    "        start, end, waypoints=[stop1,stop2,stop3],\n",
    "        travel_mode='DRIVING')\n",
    "figDir.add_layer(vacationPath)\n",
    "figDir\n"
   ]
  },
  {
   "cell_type": "code",
   "execution_count": 42,
   "metadata": {},
   "outputs": [
    {
     "output_type": "execute_result",
     "data": {
      "text/plain": [
       "   City_ID        City Country  Max Temp Current Description    Lat   Lng  \\\n",
       "0      610   Salisbury      GB      44.6                mist  51.07 -1.80   \n",
       "1      666  Winchester      GB      48.2       broken clouds  51.07 -1.32   \n",
       "2      293   Ashington      GB      48.2       broken clouds  50.93 -0.39   \n",
       "3      604     Margate      GB      48.0           clear sky  51.38  1.39   \n",
       "\n",
       "                           Hotel Name  \n",
       "0  Mercure Salisbury White Hart Hotel  \n",
       "1                      Lainston House  \n",
       "2                         Tirol House  \n",
       "3           Premier Inn Margate hotel  "
      ],
      "text/html": "<div>\n<style scoped>\n    .dataframe tbody tr th:only-of-type {\n        vertical-align: middle;\n    }\n\n    .dataframe tbody tr th {\n        vertical-align: top;\n    }\n\n    .dataframe thead th {\n        text-align: right;\n    }\n</style>\n<table border=\"1\" class=\"dataframe\">\n  <thead>\n    <tr style=\"text-align: right;\">\n      <th></th>\n      <th>City_ID</th>\n      <th>City</th>\n      <th>Country</th>\n      <th>Max Temp</th>\n      <th>Current Description</th>\n      <th>Lat</th>\n      <th>Lng</th>\n      <th>Hotel Name</th>\n    </tr>\n  </thead>\n  <tbody>\n    <tr>\n      <th>0</th>\n      <td>610</td>\n      <td>Salisbury</td>\n      <td>GB</td>\n      <td>44.6</td>\n      <td>mist</td>\n      <td>51.07</td>\n      <td>-1.80</td>\n      <td>Mercure Salisbury White Hart Hotel</td>\n    </tr>\n    <tr>\n      <th>1</th>\n      <td>666</td>\n      <td>Winchester</td>\n      <td>GB</td>\n      <td>48.2</td>\n      <td>broken clouds</td>\n      <td>51.07</td>\n      <td>-1.32</td>\n      <td>Lainston House</td>\n    </tr>\n    <tr>\n      <th>2</th>\n      <td>293</td>\n      <td>Ashington</td>\n      <td>GB</td>\n      <td>48.2</td>\n      <td>broken clouds</td>\n      <td>50.93</td>\n      <td>-0.39</td>\n      <td>Tirol House</td>\n    </tr>\n    <tr>\n      <th>3</th>\n      <td>604</td>\n      <td>Margate</td>\n      <td>GB</td>\n      <td>48.0</td>\n      <td>clear sky</td>\n      <td>51.38</td>\n      <td>1.39</td>\n      <td>Premier Inn Margate hotel</td>\n    </tr>\n  </tbody>\n</table>\n</div>"
     },
     "metadata": {},
     "execution_count": 42
    }
   ],
   "source": [
    "# 8. To create a marker layer map between the four cities.\n",
    "#  Combine the four city DataFrames into one DataFrame using the concat() function.\n",
    "itinerary_df = pd.concat([vacation_start,vacation_stop1,vacation_stop2,vacation_stop3],ignore_index=True)\n",
    "itinerary_df"
   ]
  },
  {
   "cell_type": "code",
   "execution_count": 43,
   "metadata": {},
   "outputs": [],
   "source": [
    "# 9 Using the template add city name, the country code, the weather description and maximum temperature for the city. \n",
    "info_box_template = \"\"\"\n",
    "<dl>\n",
    "<dt><b>Hotel Name</b></dt><dd>{Hotel Name}</dd>\n",
    "<dt><b>City</b></dt><dd>{City}</dd>\n",
    "<dt><b>Country</b></dt><dd>{Country}</dd>\n",
    "<dt><b>Current Weather</b></dt><dd>{Current Description} and {Max Temp} °F</dd>\n",
    "</dl>\n",
    "\"\"\"\n",
    "\n",
    "# 10a Get the data from each row and add it to the formatting template and store the data in a list.\n",
    "hotel_info = [info_box_template.format(**row) for index, row in itinerary_df.iterrows()]\n",
    "\n",
    "# 10b. Get the latitude and longitude from each row and store in a new DataFrame.\n",
    "locations = itinerary_df[[\"Lat\", \"Lng\"]]"
   ]
  },
  {
   "cell_type": "code",
   "execution_count": 44,
   "metadata": {},
   "outputs": [
    {
     "output_type": "display_data",
     "data": {
      "text/plain": "Figure(layout=FigureLayout(height='420px'))",
      "application/vnd.jupyter.widget-view+json": {
       "version_major": 2,
       "version_minor": 0,
       "model_id": "ba088eb9a25844f396e94c03ad6f2203"
      }
     },
     "metadata": {}
    }
   ],
   "source": [
    "fig_travel_map = gmaps.figure(center=(30.0, 31.0), zoom_level=1.5)\n",
    "\n",
    "# 11a. Add a marker layer for each city to the map.\n",
    "marker_layer_travel_map = gmaps.marker_layer(locations, info_box_content=hotel_info)\n",
    "# 11b. Display the figure\n",
    "fig_travel_map.add_layer(marker_layer_travel_map)\n",
    "fig_travel_map"
   ]
  },
  {
   "cell_type": "code",
   "execution_count": null,
   "metadata": {},
   "outputs": [],
   "source": []
  }
 ],
 "metadata": {
  "kernelspec": {
   "display_name": "PythonData",
   "language": "python",
   "name": "pythondata"
  },
  "language_info": {
   "codemirror_mode": {
    "name": "ipython",
    "version": 3
   },
   "file_extension": ".py",
   "mimetype": "text/x-python",
   "name": "python",
   "nbconvert_exporter": "python",
   "pygments_lexer": "ipython3",
   "version": "3.7.7-final"
  },
  "latex_envs": {
   "LaTeX_envs_menu_present": true,
   "autoclose": false,
   "autocomplete": true,
   "bibliofile": "biblio.bib",
   "cite_by": "apalike",
   "current_citInitial": 1,
   "eqLabelWithNumbers": true,
   "eqNumInitial": 1,
   "hotkeys": {
    "equation": "Ctrl-E",
    "itemize": "Ctrl-I"
   },
   "labels_anchors": false,
   "latex_user_defs": false,
   "report_style_numbering": false,
   "user_envs_cfg": false
  }
 },
 "nbformat": 4,
 "nbformat_minor": 2
}